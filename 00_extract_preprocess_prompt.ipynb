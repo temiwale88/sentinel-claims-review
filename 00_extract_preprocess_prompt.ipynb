{
  "cells": [
    {
      "cell_type": "markdown",
      "metadata": {
        "id": "q1bFYqwfha6x"
      },
      "source": [
        "# We will use utilization data here\n",
        "The goal is to use current utilization data to pull historical claims for the same patient"
      ]
    },
    {
      "cell_type": "code",
      "execution_count": 27,
      "metadata": {
        "id": "y9apwMq8ha6z"
      },
      "outputs": [],
      "source": [
        "import pandas as pd\n",
        "import numpy as np\n",
        "import re\n",
        "import os\n",
        "from pathlib import Path\n",
        "from dotenv import load_dotenv\n",
        "import glob\n",
        "\n",
        "from dotenv import load_dotenv\n",
        "\n",
        "dir_path = Path.cwd()\n",
        "data_path = (dir_path / \"data\").resolve()\n",
        "temp_path = (dir_path / \"temp\").resolve()\n",
        "env_path = (dir_path / \".env\").resolve()\n",
        "\n",
        "load_dotenv(env_path)\n",
        "\n",
        "pd.set_option('display.float_format', lambda x: '%.3f' % x)\n",
        "pd.set_option(\"display.max_rows\", 40)"
      ]
    },
    {
      "cell_type": "markdown",
      "metadata": {
        "id": "jPjaSnr0ha60"
      },
      "source": [
        "CSV data  \n",
        "Let's merge all our utilization data here"
      ]
    },
    {
      "cell_type": "code",
      "execution_count": 28,
      "metadata": {
        "id": "z_8igda9ha60"
      },
      "outputs": [
        {
          "data": {
            "text/html": [
              "<div>\n",
              "<style scoped>\n",
              "    .dataframe tbody tr th:only-of-type {\n",
              "        vertical-align: middle;\n",
              "    }\n",
              "\n",
              "    .dataframe tbody tr th {\n",
              "        vertical-align: top;\n",
              "    }\n",
              "\n",
              "    .dataframe thead th {\n",
              "        text-align: right;\n",
              "    }\n",
              "</style>\n",
              "<table border=\"1\" class=\"dataframe\">\n",
              "  <thead>\n",
              "    <tr style=\"text-align: right;\">\n",
              "      <th></th>\n",
              "      <th>member id</th>\n",
              "      <th>member first name</th>\n",
              "      <th>member last name</th>\n",
              "      <th>tooth surface</th>\n",
              "      <th>tooth nbr</th>\n",
              "      <th>provider</th>\n",
              "      <th>npi</th>\n",
              "      <th>service date</th>\n",
              "      <th>procedure code</th>\n",
              "      <th>procedure description</th>\n",
              "      <th>submitted amount</th>\n",
              "      <th>approved amount</th>\n",
              "      <th>allowed amount</th>\n",
              "      <th>network savings</th>\n",
              "      <th>deductible amt</th>\n",
              "      <th>cov %</th>\n",
              "      <th>patient owes</th>\n",
              "      <th>plan payment</th>\n",
              "      <th>policy</th>\n",
              "    </tr>\n",
              "  </thead>\n",
              "  <tbody>\n",
              "    <tr>\n",
              "      <th>0</th>\n",
              "      <td>1TA9YY3MK99</td>\n",
              "      <td>Evaleen</td>\n",
              "      <td>Gaitung</td>\n",
              "      <td>NaN</td>\n",
              "      <td>NaN</td>\n",
              "      <td>Dr. Smith</td>\n",
              "      <td>5WC2CU9KQ89</td>\n",
              "      <td>2024-04-01</td>\n",
              "      <td>D0150</td>\n",
              "      <td>Comprehensive oral evaluation, new or establis...</td>\n",
              "      <td>75</td>\n",
              "      <td>55</td>\n",
              "      <td>55</td>\n",
              "      <td>20</td>\n",
              "      <td>0</td>\n",
              "      <td>100</td>\n",
              "      <td>0</td>\n",
              "      <td>55</td>\n",
              "      <td>D0150: Once per lifetime, per dentist/provider...</td>\n",
              "    </tr>\n",
              "    <tr>\n",
              "      <th>1</th>\n",
              "      <td>1TA9YY3MK99</td>\n",
              "      <td>Evaleen</td>\n",
              "      <td>Gaitung</td>\n",
              "      <td>NaN</td>\n",
              "      <td>NaN</td>\n",
              "      <td>Dr. Smith</td>\n",
              "      <td>5WC2CU9KQ89</td>\n",
              "      <td>2024-04-01</td>\n",
              "      <td>D1110</td>\n",
              "      <td>Prophylaxis   adult Removal of plaque, calcul...</td>\n",
              "      <td>90</td>\n",
              "      <td>70</td>\n",
              "      <td>70</td>\n",
              "      <td>20</td>\n",
              "      <td>0</td>\n",
              "      <td>100</td>\n",
              "      <td>0</td>\n",
              "      <td>70</td>\n",
              "      <td>D1110: Twice per calendar year age thirteen (1...</td>\n",
              "    </tr>\n",
              "    <tr>\n",
              "      <th>2</th>\n",
              "      <td>1TA9YY3MK99</td>\n",
              "      <td>Evaleen</td>\n",
              "      <td>Gaitung</td>\n",
              "      <td>NaN</td>\n",
              "      <td>NaN</td>\n",
              "      <td>Dr. Smith</td>\n",
              "      <td>5WC2CU9KQ89</td>\n",
              "      <td>2024-04-01</td>\n",
              "      <td>D0274</td>\n",
              "      <td>Bitewings  four (4) radiographic images</td>\n",
              "      <td>100</td>\n",
              "      <td>80</td>\n",
              "      <td>80</td>\n",
              "      <td>20</td>\n",
              "      <td>0</td>\n",
              "      <td>100</td>\n",
              "      <td>0</td>\n",
              "      <td>80</td>\n",
              "      <td>D0274: Once per benefit period. Plan benefits ...</td>\n",
              "    </tr>\n",
              "    <tr>\n",
              "      <th>3</th>\n",
              "      <td>1TA9YY3MK99</td>\n",
              "      <td>Evaleen</td>\n",
              "      <td>Gaitung</td>\n",
              "      <td>NaN</td>\n",
              "      <td>NaN</td>\n",
              "      <td>Dr. Smith</td>\n",
              "      <td>5WC2CU9KQ89</td>\n",
              "      <td>2024-04-01</td>\n",
              "      <td>D4341</td>\n",
              "      <td>Periodontal Scaling and Root planning (SRP) 4 ...</td>\n",
              "      <td>400</td>\n",
              "      <td>300</td>\n",
              "      <td>300</td>\n",
              "      <td>100</td>\n",
              "      <td>0</td>\n",
              "      <td>100</td>\n",
              "      <td>0</td>\n",
              "      <td>300</td>\n",
              "      <td>D4341: One (1) per quadrant per twenty-four (2...</td>\n",
              "    </tr>\n",
              "    <tr>\n",
              "      <th>4</th>\n",
              "      <td>1TA9YY3MK99</td>\n",
              "      <td>Evaleen</td>\n",
              "      <td>Gaitung</td>\n",
              "      <td>NaN</td>\n",
              "      <td>NaN</td>\n",
              "      <td>Dr. Smith</td>\n",
              "      <td>5WC2CU9KQ89</td>\n",
              "      <td>2024-04-01</td>\n",
              "      <td>D4355</td>\n",
              "      <td>Full mouth debridement to enable a comprehensi...</td>\n",
              "      <td>250</td>\n",
              "      <td>200</td>\n",
              "      <td>200</td>\n",
              "      <td>50</td>\n",
              "      <td>0</td>\n",
              "      <td>100</td>\n",
              "      <td>0</td>\n",
              "      <td>200</td>\n",
              "      <td>D4355: 1 per 36 months, age 18 and older. Not ...</td>\n",
              "    </tr>\n",
              "  </tbody>\n",
              "</table>\n",
              "</div>"
            ],
            "text/plain": [
              "     member id member first name member last name  tooth surface  tooth nbr  \\\n",
              "0  1TA9YY3MK99           Evaleen          Gaitung            NaN        NaN   \n",
              "1  1TA9YY3MK99           Evaleen          Gaitung            NaN        NaN   \n",
              "2  1TA9YY3MK99           Evaleen          Gaitung            NaN        NaN   \n",
              "3  1TA9YY3MK99           Evaleen          Gaitung            NaN        NaN   \n",
              "4  1TA9YY3MK99           Evaleen          Gaitung            NaN        NaN   \n",
              "\n",
              "    provider          npi service date procedure code  \\\n",
              "0  Dr. Smith  5WC2CU9KQ89   2024-04-01          D0150   \n",
              "1  Dr. Smith  5WC2CU9KQ89   2024-04-01          D1110   \n",
              "2  Dr. Smith  5WC2CU9KQ89   2024-04-01          D0274   \n",
              "3  Dr. Smith  5WC2CU9KQ89   2024-04-01          D4341   \n",
              "4  Dr. Smith  5WC2CU9KQ89   2024-04-01          D4355   \n",
              "\n",
              "                               procedure description  submitted amount  \\\n",
              "0  Comprehensive oral evaluation, new or establis...                75   \n",
              "1  Prophylaxis   adult Removal of plaque, calcul...                90   \n",
              "2           Bitewings  four (4) radiographic images               100   \n",
              "3  Periodontal Scaling and Root planning (SRP) 4 ...               400   \n",
              "4  Full mouth debridement to enable a comprehensi...               250   \n",
              "\n",
              "   approved amount  allowed amount  network savings  deductible amt  cov %  \\\n",
              "0               55              55               20               0    100   \n",
              "1               70              70               20               0    100   \n",
              "2               80              80               20               0    100   \n",
              "3              300             300              100               0    100   \n",
              "4              200             200               50               0    100   \n",
              "\n",
              "   patient owes  plan payment  \\\n",
              "0             0            55   \n",
              "1             0            70   \n",
              "2             0            80   \n",
              "3             0           300   \n",
              "4             0           200   \n",
              "\n",
              "                                              policy  \n",
              "0  D0150: Once per lifetime, per dentist/provider...  \n",
              "1  D1110: Twice per calendar year age thirteen (1...  \n",
              "2  D0274: Once per benefit period. Plan benefits ...  \n",
              "3  D4341: One (1) per quadrant per twenty-four (2...  \n",
              "4  D4355: 1 per 36 months, age 18 and older. Not ...  "
            ]
          },
          "execution_count": 28,
          "metadata": {},
          "output_type": "execute_result"
        }
      ],
      "source": [
        "df = pd.read_csv(\"data.csv\",  encoding='ISO 8859-1')\n",
        "df['Service Date'] = pd.to_datetime(df['Service Date'])\n",
        "\n",
        "# Sort DataFrame by 'Member ID' and 'Service Date' in descending order\n",
        "df.sort_values(by=['Member ID', 'Service Date'], ascending=[True, False], inplace=True)\n",
        "df.columns = df.columns.str.lower()\n",
        "df['member id'] = df['member id'].astype(str)\n",
        "df['policy'] = df['procedure code'] + \": \" + df['procedure guidelines']\n",
        "df.drop(['procedure guidelines'], axis=1, inplace=True)\n",
        "df.head()"
      ]
    },
    {
      "cell_type": "markdown",
      "metadata": {
        "id": "uNaZ7wnZha63"
      },
      "source": [
        "## Prompting"
      ]
    },
    {
      "cell_type": "markdown",
      "metadata": {
        "id": "4Fbdp4oqha64"
      },
      "source": [
        "Now let's append the current claim to historical utilization for each member  \n",
        "- We want the claim, find it's member, then use the member_id to pull historical claims"
      ]
    },
    {
      "cell_type": "code",
      "execution_count": 29,
      "metadata": {
        "id": "aH21WIEFha64"
      },
      "outputs": [],
      "source": [
        "from tabulate import tabulate # first, we'll convert to markdown"
      ]
    },
    {
      "cell_type": "code",
      "execution_count": 30,
      "metadata": {
        "id": "_3AnTk48ha64"
      },
      "outputs": [],
      "source": [
        "# Source code (modified slightly) from 'laura-xy-lee' from: https://tinyurl.com/3fr42jky\n",
        "def convert_to_md(df):\n",
        "        # Convert table to markdown\n",
        "        md = tabulate(df, tablefmt='github', headers='keys', showindex=False)\n",
        "        return md"
      ]
    },
    {
      "cell_type": "markdown",
      "metadata": {
        "id": "8ZXr3enBha65"
      },
      "source": [
        "Since we have a mix of claim types (clinically review with & w/o issue and not reviewed), let's randomly shuffle the df just in case the LLM is preprogrammed to answer a certain due to a previous api call"
      ]
    },
    {
      "cell_type": "code",
      "execution_count": 31,
      "metadata": {
        "id": "ECA5g4lyha65"
      },
      "outputs": [
        {
          "name": "stdout",
          "output_type": "stream",
          "text": [
            "## Member ID: 1TA9YY3MK99\n",
            "\n",
            "| member id   | member first name   | member last name   |   tooth surface |   tooth nbr | provider   | npi         | service date        | procedure code   | procedure description                                                                                       |   submitted amount |   approved amount |   allowed amount |   network savings |   deductible amt |   cov % |   patient owes |   plan payment | policy                                                                                                                                                                                                          |\n",
            "|-------------|---------------------|--------------------|-----------------|-------------|------------|-------------|---------------------|------------------|-------------------------------------------------------------------------------------------------------------|--------------------|-------------------|------------------|-------------------|------------------|---------|----------------|----------------|-----------------------------------------------------------------------------------------------------------------------------------------------------------------------------------------------------------------|\n",
            "| 1TA9YY3MK99 | Evaleen             | Gaitung            |             nan |         nan | Dr. Smith  | 5WC2CU9KQ89 | 2024-04-01 00:00:00 | D0150            | Comprehensive oral evaluation, new or established patient                                                   |                 75 |                55 |               55 |                20 |                0 |     100 |              0 |             55 | D0150: Once per lifetime, per dentist/provider. Not covered when performed on the same date, same\n",
            "provider as D4355. The exam is a thorough evaluation and recording of the extraoral hard and soft tissues. This includes an evaluation for oral cancer, the evaluation and recording of the patients dental and medical history and a general health assessment.\n",
            "In addition, the exam would include the evaluation and recording of dental caries, missing  or unerupted teeth, restorations, existing prostheses, occlusal relationships, periodontal conditions (including periodontal screening and/or charting), hard and soft tissue anomalies, etc. It may also require interpretation of information acquired through additional diagnostic procedures. This procedure applies to new patients or established patients who have been absent from active treatment thirty-six (36) or more months. The procedure also applies to established patients who have had a significant change  in health conditions or other unusual circumstances                                                                                                                                                                                                                 |\n",
            "| 1TA9YY3MK99 | Evaleen             | Gaitung            |             nan |         nan | Dr. Smith  | 5WC2CU9KQ89 | 2024-04-01 00:00:00 | D1110            | Prophylaxis   adult Removal of plaque, calculus and stains from the tooth structures and implants in the permanentand transitional dentition.It is intended to control local irritational factors.                                                                                                             |                 90 |                70 |               70 |                20 |                0 |     100 |              0 |             70 | D1110: Twice per calendar year age thirteen (13)  and  older\n",
            "*Note: If a member is enrolled in Oral Health for Overall Health, D1110/D1120 or D4346 or D4910\n",
            "is covered once every three months.\n",
            "Code D1110 may be used for members age thirteen (13) and older. At age eighteen (18) code D1110 can be used in combination  with D4910 up to a total of two (2) per benefit period                                                                                                                                                                                                                 |\n",
            "| 1TA9YY3MK99 | Evaleen             | Gaitung            |             nan |         nan | Dr. Smith  | 5WC2CU9KQ89 | 2024-04-01 00:00:00 | D0274            | Bitewings  four (4) radiographic images                                                                                                             |                100 |                80 |               80 |                20 |                0 |     100 |              0 |             80 | D0274: Once per benefit period. Plan benefits include an annual set of bitewings per benefit period. Any of these codes constitute a set of bitewings                                                           |\n",
            "| 1TA9YY3MK99 | Evaleen             | Gaitung            |             nan |         nan | Dr. Smith  | 5WC2CU9KQ89 | 2024-04-01 00:00:00 | D4341            | Periodontal Scaling and Root planning (SRP) 4 or more teeth Per Quadrant                                    |                400 |               300 |              300 |               100 |                0 |     100 |              0 |            300 | D4341: One (1) per quadrant per twenty-four (24) month period, age eighteen (18) or older. Periodontal scaling and root planning may be used as a definitive treatment in some stages of periodontal disease  and/or  as a part of pre- surgical procedures in others a benefit when less than four (4) teeth in a quadrant  have periodontal pockets measuring 4mm or greater. Once every twenty-four (24) months. Patient must be eighteen\n",
            "(18) years and older. Gross debridement of calculus and polishing of all teeth are considered\n",
            "integral to this procedure                                                                                                                                                                                                                 |\n",
            "| 1TA9YY3MK99 | Evaleen             | Gaitung            |             nan |         nan | Dr. Smith  | 5WC2CU9KQ89 | 2024-04-01 00:00:00 | D4355            | Full mouth debridement to enable a comprehensive periodontal evaluation and diagnosis on a subsequent visit |                250 |               200 |              200 |                50 |                0 |     100 |              0 |            200 | D4355: 1 per 36 months, age 18 and older. Not to be completed on the same day as D0150, D0160 or D0180. To be used when plaque and calculus interfere with the ability to perform a compressive oral evaluation |\n",
            "| 1TA9YY3MK99 | Evaleen             | Gaitung            |             nan |         nan | Dr. Smith  | 5WC2CU9KQ89 | 2024-04-01 00:00:00 | D4910            | Periodontal  maintenance                                                                                    |                120 |               100 |              100 |                20 |                0 |     100 |              0 |            100 | D4910: Two (2) per benefit period, includes prophy,\n",
            "age eighteen (18) or older.\n",
            "*Note: If a member is enrolled in Oral Health for\n",
            "Overall Health, D1110/D1120 or D4346 or\n",
            "D4910 is covered once every three months. Periodontal maintenance includes removal of the bacterial plaque and calculus from supragingival and subgingival regions, site-specific scaling and root planing where indicated, and polishing the teeth, Periodontal maintenance is covered two (2) times per benefit period following surgical and definitive non-surgical therapy.  The patient must be age eighteen (18) or older. Periodontal\n",
            "maintenance should not to be performed on same day as periodontal  surgery                                                                                                                                                                                                                 |\n",
            "\n",
            "## Member ID: 5E73XN8XG05\n",
            "\n",
            "| member id   | member first name   | member last name   |   tooth surface |   tooth nbr | provider   | npi         | service date        | procedure code   | procedure description                          |   submitted amount |   approved amount |   allowed amount |   network savings |   deductible amt |   cov % |   patient owes |   plan payment | policy                                                                                                                                                                                                                                                                                                                                                                                                     |\n",
            "|-------------|---------------------|--------------------|-----------------|-------------|------------|-------------|---------------------|------------------|------------------------------------------------|--------------------|-------------------|------------------|-------------------|------------------|---------|----------------|----------------|------------------------------------------------------------------------------------------------------------------------------------------------------------------------------------------------------------------------------------------------------------------------------------------------------------------------------------------------------------------------------------------------------------|\n",
            "| 5E73XN8XG05 | Markos              | Priestman          |             nan |         nan | Dr. Jones  | 3C18N48CU38 | 2024-04-15 00:00:00 | D2950            | Core buildup, including any pins when required |                250 |               200 |              200 |                50 |                0 |     100 |              0 |            200 | D2950: One (1) per tooth per five (5) years for permanent teeth. Core buildup is allowed for endodontically treated teeth. Core buildup is covered for vital teeth when more than 50 percent of the coronal tooth structure is missing. One (1) every sixty (60) months. When combined  in a claim with a cast or prefabricated post and core (D2952, D2954),  core buildup (D2950) is not paid separately |\n",
            "| 5E73XN8XG05 | Markos              | Priestman          |             nan |         nan | Dr. Jones  | 3C18N48CU38 | 2024-04-15 00:00:00 | D2951            | Pin retention  per tooth, in addition to restoration                                                |                150 |               120 |              120 |                30 |                0 |     100 |              0 |            120 | D2951: Once (1) per tooth per twelve (12) months. Pins are covered for permanent teeth only. Pin retention is not covered separately when claimed with cast-post and core, prefabricated-post and core, and core buildup (D2952, D2954, and D2950)                                                                                                                                                         |\n",
            "\n",
            "## Member ID: 5KN2RV8RX93\n",
            "\n",
            "| member id   | member first name   | member last name   |   tooth surface |   tooth nbr | provider   | npi         | service date        | procedure code   | procedure description                                                                                                                               |   submitted amount |   approved amount |   allowed amount |   network savings |   deductible amt |   cov % |   patient owes |   plan payment | policy                                                                                                                                                                                                                                                                                                                   |\n",
            "|-------------|---------------------|--------------------|-----------------|-------------|------------|-------------|---------------------|------------------|-----------------------------------------------------------------------------------------------------------------------------------------------------|--------------------|-------------------|------------------|-------------------|------------------|---------|----------------|----------------|--------------------------------------------------------------------------------------------------------------------------------------------------------------------------------------------------------------------------------------------------------------------------------------------------------------------------|\n",
            "| 5KN2RV8RX93 | Tommy               | L'Homme            |             nan |         nan | Dr. White  | 8P46G39AX74 | 2024-04-22 00:00:00 | D7210            | Surgical removal of erupted tooth requiring removal of bone and/or sectioning of tooth, and including elevation of mucoperiosteal flap if indicated |               1200 |              1000 |             1000 |               200 |                0 |      80 |            200 |            800 | D7210: One (1) per tooth per lifetime. Surgical removal  of an erupted  tooth requiring removal of bone and/or sectioning of tooth and including elevation of mucoperiosteal  flap if indicated.\n",
            "Procedures include local anesthesia, suturing if needed and routine postoperative care. Once per tooth.                                                                                                                                                                                                                                                                                                                          |\n",
            "| 5KN2RV8RX93 | Tommy               | L'Homme            |             nan |         nan | Dr. Green  | 5KN2RV8RX93 | 2024-01-10 00:00:00 | D1351            | Sealant  per tooth                                                                                                                                                     |                 60 |                45 |               45 |                15 |                0 |     100 |              0 |             45 | D1351: Sealants are limited to the first and second molars for primary teeth and the bicuspids and molars for the permanent teeth of dependent children, through age 16. Sealants covered for permanent molars and premolars only. Must be age sixteen (16) years and under. Tooth cannot have prior restorative history |\n",
            "| 5KN2RV8RX93 | Tommy               | L'Homme            |             nan |         nan | Dr. Green  | 5KN2RV8RX93 | 2024-01-10 00:00:00 | D1206            | Topical application of fluoride varnish                                                                                                             |                 40 |                30 |               30 |                10 |                0 |     100 |              0 |             30 | D1206: Twice per benefit period. Maximum age thirteen  (13)\n",
            "*Note: If a member has oral canceror Sjogrens® Syndrome and is enrolled in Oral Health for Overall Health,  D1206 or D1208 is coveredonce every three months. Coverage is twice per benefit period Fluoride varnish, code D1206, can be used in combination with D1208 up to a total of two (2), topical or varnish fluoride applications per benefit period. The patient maximum age thirteen (13). Fluoride applications usually accompany prophylaxis and/or oral evaluation                                                                                                                                                                                                                                                                                                                          |\n",
            "| 5KN2RV8RX93 | Tommy               | L'Homme            |             nan |         nan | Dr. Green  | 5KN2RV8RX93 | 2023-07-10 00:00:00 | D0272            | Bitewings  two (2) radiographic images                                                                                                                                                     |                 80 |                60 |               60 |                20 |                0 |     100 |              0 |             60 | D0272: Once per benefit period. Plan benefits include an annual set of bitewings per benefit period. Any of these codes constitute a set of bitewings                                                                                                                                                                    |\n",
            "| 5KN2RV8RX93 | Tommy               | L'Homme            |             nan |         nan | Dr. Green  | 5KN2RV8RX93 | 2023-07-10 00:00:00 | D1110            | Prophylaxis   adult Removal of plaque, calculus and stains from the tooth structures and implants in the permanentand transitional dentition.It is intended to control local irritational factors.                                                                                                                                                     |                100 |                80 |               80 |                20 |                0 |     100 |              0 |             80 | D1110: Twice per calendar year age thirteen (13)  and  older\n",
            "*Note: If a member is enrolled in Oral Health for Overall Health, D1110/D1120 or D4346 or D4910\n",
            "is covered once every three months.\n",
            "Code D1110 may be used for members age thirteen (13) and older. At age eighteen (18) code D1110 can be used in combination  with D4910 up to a total of two (2) per benefit period                                                                                                                                                                                                                                                                                                                          |\n",
            "| 5KN2RV8RX93 | Tommy               | L'Homme            |             nan |         nan | Dr. Green  | 5KN2RV8RX93 | 2022-07-10 00:00:00 | D0220            | Intraoral periapical  first radiographic  image                                                                                                                                                     |                 50 |                35 |               35 |                15 |                0 |     100 |              0 |             35 | D0220: Periapical films, for diagnostic purposes, covered subject to clinical necessity.  Intra?operative\n",
            "working radiographs are included with complete root canal therapy                                                                                                                                                                                                                                                                                                                          |\n",
            "| 5KN2RV8RX93 | Tommy               | L'Homme            |             nan |         nan | Dr. Green  | 5KN2RV8RX93 | 2022-02-10 00:00:00 | D0150            | Comprehensive oral evaluation, new or established patient                                                                                           |                 60 |                45 |               45 |                15 |                0 |     100 |              0 |             45 | D0150: Once per lifetime, per dentist/provider. Not covered when performed on the same date, same\n",
            "provider as D4355. The exam is a thorough evaluation and recording of the extraoral hard and soft tissues. This includes an evaluation for oral cancer, the evaluation and recording of the patients dental and medical history and a general health assessment.\n",
            "In addition, the exam would include the evaluation and recording of dental caries, missing  or unerupted teeth, restorations, existing prostheses, occlusal relationships, periodontal conditions (including periodontal screening and/or charting), hard and soft tissue anomalies, etc. It may also require interpretation of information acquired through additional diagnostic procedures. This procedure applies to new patients or established patients who have been absent from active treatment thirty-six (36) or more months. The procedure also applies to established patients who have had a significant change  in health conditions or other unusual circumstances                                                                                                                                                                                                                                                                                                                          |\n",
            "\n"
          ]
        }
      ],
      "source": [
        "for member_id, group_df in df.groupby('member id'):\n",
        "    md = convert_to_md(group_df)\n",
        "    print(f\"## Member ID: {member_id}\\n\\n{md}\\n\")"
      ]
    },
    {
      "cell_type": "markdown",
      "metadata": {
        "id": "-7T2JiWSha65"
      },
      "source": [
        "Let's bring in our policy"
      ]
    },
    {
      "cell_type": "code",
      "execution_count": 32,
      "metadata": {
        "id": "bmvoHOc0ha66"
      },
      "outputs": [
        {
          "name": "stdout",
          "output_type": "stream",
          "text": [
            "You are the world's foremost investigator into fraud, waste, and abuse in the dental insurance industry.\n",
            "Here are our definitions for FWA:\n",
            "###\n",
            "Fraud: Fraud hinges on intent: healthcare workers knowingly working outside of accepted standards for their own financial gain. Some common fraud examples include billing for services not rendered, misrepresenting dates of service, diagnosing unnecessary or incorrect treatment, or misrepresenting the identity of the patient. While these aren’t limited to dentistry, spotting nefarious intent within inappropriate claims must be done right away before unwarranted payment escalates.\n",
            "Abuse: Abuse typically involves acts that are inconsistent with identified acceptable and legitimate practices. This can result in additional and unnecessary costs to the payer, as well as possible injury to patients, who may suffer from a lack of needed care, incorrect care, or deficient care as a result. Over-coding procedures falls under the category of abuse. Examples of over-coding include billing for a higher extraction code when the lower code is more in line with the actual process per extraction codes contained in CDT. The higher code is generally reimbursed at a higher rate, thus using more of the patient's available dental plan benefit.\n",
            "Waste: A major problem for dental payers that often goes unchecked is waste, or billing for medically unnecessary services. Waste in dental services not only affects the dental plans, but it inaccurately deducts from their members’ yearly maximum benefit, potentially leaving insufficient funds for other necessary procedures.\n",
            "###\n",
            "\n",
            "\n"
          ]
        }
      ],
      "source": [
        "base_prompt = \"\"\"You are the world's foremost investigator into fraud, waste, and abuse in the dental insurance industry.\n",
        "Here are our definitions for FWA:\n",
        "###\n",
        "Fraud: Fraud hinges on intent: healthcare workers knowingly working outside of accepted standards for their own financial gain. Some common fraud examples include billing for services not rendered, misrepresenting dates of service, diagnosing unnecessary or incorrect treatment, or misrepresenting the identity of the patient. While these aren’t limited to dentistry, spotting nefarious intent within inappropriate claims must be done right away before unwarranted payment escalates.\n",
        "Abuse: Abuse typically involves acts that are inconsistent with identified acceptable and legitimate practices. This can result in additional and unnecessary costs to the payer, as well as possible injury to patients, who may suffer from a lack of needed care, incorrect care, or deficient care as a result. Over-coding procedures falls under the category of abuse. Examples of over-coding include billing for a higher extraction code when the lower code is more in line with the actual process per extraction codes contained in CDT. The higher code is generally reimbursed at a higher rate, thus using more of the patient's available dental plan benefit.\n",
        "Waste: A major problem for dental payers that often goes unchecked is waste, or billing for medically unnecessary services. Waste in dental services not only affects the dental plans, but it inaccurately deducts from their members’ yearly maximum benefit, potentially leaving insufficient funds for other necessary procedures.\n",
        "###\n",
        "\n",
        "\"\"\"\n",
        "print(base_prompt)"
      ]
    },
    {
      "cell_type": "code",
      "execution_count": 33,
      "metadata": {
        "id": "lSVdY_Ctha66"
      },
      "outputs": [
        {
          "name": "stdout",
          "output_type": "stream",
          "text": [
            "###\n",
            "\n",
            "###\n",
            "\n"
          ]
        }
      ],
      "source": [
        "additional_prompt = \"\"\"###\n",
        "...\n",
        "###\n",
        "\"\"\"\n",
        "print(additional_prompt)"
      ]
    },
    {
      "cell_type": "code",
      "execution_count": 34,
      "metadata": {
        "id": "wK7na3G2ha66"
      },
      "outputs": [
        {
          "name": "stdout",
          "output_type": "stream",
          "text": [
            "Example response with a severity score (none, low, medium, high):\n",
            "###\n",
            "XXXXXX\n",
            "###\n",
            "\n"
          ]
        }
      ],
      "source": [
        "few_shot_prompt = \"\"\"Example response with a severity score (none, low, medium, high):\n",
        "###\n",
        "XXXXXX\n",
        "###\n",
        "\"\"\"\n",
        "print(few_shot_prompt)"
      ]
    },
    {
      "cell_type": "code",
      "execution_count": 35,
      "metadata": {
        "id": "pgtIrSgAha66"
      },
      "outputs": [],
      "source": [
        "# Initialize an empty list to store results\n",
        "prompt_list = []\n",
        "\n",
        "unique_ids = list(np.unique(df['member id']))\n",
        "\n",
        "for id in unique_ids:\n",
        "    member_id = id\n",
        "    _util_history = df[df['member id']==member_id]\n",
        "    prompt = f\"{base_prompt}\\nHere's the member history in markdown format:\\n###\\n{convert_to_md(_util_history)}\\n###\\n\"\n",
        "\n",
        "    prompt +=f\"What are your thoughts about this claim, using ONLY the policy in the context, are there signs of fraud, waste, abuse, educational opportunities, upcoding, unbundling, issues with the treatment sequence, etc? ENSURE to add a severity score (none, low, medium, high) and reference the line number when appropriate. Call out potential savings in bold **text** not markdown based on your findings\"\n",
        "\n",
        "    # print(prompt)\n",
        "    prompt_list.append([member_id, prompt])\n"
      ]
    },
    {
      "cell_type": "code",
      "execution_count": 36,
      "metadata": {
        "id": "AekV3ItBha67"
      },
      "outputs": [
        {
          "data": {
            "text/html": [
              "<div>\n",
              "<style scoped>\n",
              "    .dataframe tbody tr th:only-of-type {\n",
              "        vertical-align: middle;\n",
              "    }\n",
              "\n",
              "    .dataframe tbody tr th {\n",
              "        vertical-align: top;\n",
              "    }\n",
              "\n",
              "    .dataframe thead th {\n",
              "        text-align: right;\n",
              "    }\n",
              "</style>\n",
              "<table border=\"1\" class=\"dataframe\">\n",
              "  <thead>\n",
              "    <tr style=\"text-align: right;\">\n",
              "      <th></th>\n",
              "      <th>member_id</th>\n",
              "      <th>prompt</th>\n",
              "    </tr>\n",
              "  </thead>\n",
              "  <tbody>\n",
              "    <tr>\n",
              "      <th>0</th>\n",
              "      <td>1TA9YY3MK99</td>\n",
              "      <td>You are the world's foremost investigator into...</td>\n",
              "    </tr>\n",
              "    <tr>\n",
              "      <th>1</th>\n",
              "      <td>5E73XN8XG05</td>\n",
              "      <td>You are the world's foremost investigator into...</td>\n",
              "    </tr>\n",
              "    <tr>\n",
              "      <th>2</th>\n",
              "      <td>5KN2RV8RX93</td>\n",
              "      <td>You are the world's foremost investigator into...</td>\n",
              "    </tr>\n",
              "  </tbody>\n",
              "</table>\n",
              "</div>"
            ],
            "text/plain": [
              "     member_id                                             prompt\n",
              "0  1TA9YY3MK99  You are the world's foremost investigator into...\n",
              "1  5E73XN8XG05  You are the world's foremost investigator into...\n",
              "2  5KN2RV8RX93  You are the world's foremost investigator into..."
            ]
          },
          "execution_count": 36,
          "metadata": {},
          "output_type": "execute_result"
        }
      ],
      "source": [
        "prompt_df = pd.DataFrame(prompt_list, columns=['member_id', 'prompt'])\n",
        "prompt_df"
      ]
    },
    {
      "cell_type": "code",
      "execution_count": 37,
      "metadata": {},
      "outputs": [
        {
          "name": "stdout",
          "output_type": "stream",
          "text": [
            "You are the world's foremost investigator into fraud, waste, and abuse in the dental insurance industry.\n",
            "Here are our definitions for FWA:\n",
            "###\n",
            "Fraud: Fraud hinges on intent: healthcare workers knowingly working outside of accepted standards for their own financial gain. Some common fraud examples include billing for services not rendered, misrepresenting dates of service, diagnosing unnecessary or incorrect treatment, or misrepresenting the identity of the patient. While these aren’t limited to dentistry, spotting nefarious intent within inappropriate claims must be done right away before unwarranted payment escalates.\n",
            "Abuse: Abuse typically involves acts that are inconsistent with identified acceptable and legitimate practices. This can result in additional and unnecessary costs to the payer, as well as possible injury to patients, who may suffer from a lack of needed care, incorrect care, or deficient care as a result. Over-coding procedures falls under the category of abuse. Examples of over-coding include billing for a higher extraction code when the lower code is more in line with the actual process per extraction codes contained in CDT. The higher code is generally reimbursed at a higher rate, thus using more of the patient's available dental plan benefit.\n",
            "Waste: A major problem for dental payers that often goes unchecked is waste, or billing for medically unnecessary services. Waste in dental services not only affects the dental plans, but it inaccurately deducts from their members’ yearly maximum benefit, potentially leaving insufficient funds for other necessary procedures.\n",
            "###\n",
            "\n",
            "\n",
            "Here's the member history in markdown format:\n",
            "###\n",
            "| member id   | member first name   | member last name   |   tooth surface |   tooth nbr | provider   | npi         | service date        | procedure code   | procedure description                                                                                                                               |   submitted amount |   approved amount |   allowed amount |   network savings |   deductible amt |   cov % |   patient owes |   plan payment | policy                                                                                                                                                                                                                                                                                                                   |\n",
            "|-------------|---------------------|--------------------|-----------------|-------------|------------|-------------|---------------------|------------------|-----------------------------------------------------------------------------------------------------------------------------------------------------|--------------------|-------------------|------------------|-------------------|------------------|---------|----------------|----------------|--------------------------------------------------------------------------------------------------------------------------------------------------------------------------------------------------------------------------------------------------------------------------------------------------------------------------|\n",
            "| 5KN2RV8RX93 | Tommy               | L'Homme            |             nan |         nan | Dr. White  | 8P46G39AX74 | 2024-04-22 00:00:00 | D7210            | Surgical removal of erupted tooth requiring removal of bone and/or sectioning of tooth, and including elevation of mucoperiosteal flap if indicated |               1200 |              1000 |             1000 |               200 |                0 |      80 |            200 |            800 | D7210: One (1) per tooth per lifetime. Surgical removal  of an erupted  tooth requiring removal of bone and/or sectioning of tooth and including elevation of mucoperiosteal  flap if indicated.\n",
            "Procedures include local anesthesia, suturing if needed and routine postoperative care. Once per tooth.                                                                                                                                                                                                                                                                                                                          |\n",
            "| 5KN2RV8RX93 | Tommy               | L'Homme            |             nan |         nan | Dr. Green  | 5KN2RV8RX93 | 2024-01-10 00:00:00 | D1351            | Sealant  per tooth                                                                                                                                                     |                 60 |                45 |               45 |                15 |                0 |     100 |              0 |             45 | D1351: Sealants are limited to the first and second molars for primary teeth and the bicuspids and molars for the permanent teeth of dependent children, through age 16. Sealants covered for permanent molars and premolars only. Must be age sixteen (16) years and under. Tooth cannot have prior restorative history |\n",
            "| 5KN2RV8RX93 | Tommy               | L'Homme            |             nan |         nan | Dr. Green  | 5KN2RV8RX93 | 2024-01-10 00:00:00 | D1206            | Topical application of fluoride varnish                                                                                                             |                 40 |                30 |               30 |                10 |                0 |     100 |              0 |             30 | D1206: Twice per benefit period. Maximum age thirteen  (13)\n",
            "*Note: If a member has oral canceror Sjogrens® Syndrome and is enrolled in Oral Health for Overall Health,  D1206 or D1208 is coveredonce every three months. Coverage is twice per benefit period Fluoride varnish, code D1206, can be used in combination with D1208 up to a total of two (2), topical or varnish fluoride applications per benefit period. The patient maximum age thirteen (13). Fluoride applications usually accompany prophylaxis and/or oral evaluation                                                                                                                                                                                                                                                                                                                          |\n",
            "| 5KN2RV8RX93 | Tommy               | L'Homme            |             nan |         nan | Dr. Green  | 5KN2RV8RX93 | 2023-07-10 00:00:00 | D0272            | Bitewings  two (2) radiographic images                                                                                                                                                     |                 80 |                60 |               60 |                20 |                0 |     100 |              0 |             60 | D0272: Once per benefit period. Plan benefits include an annual set of bitewings per benefit period. Any of these codes constitute a set of bitewings                                                                                                                                                                    |\n",
            "| 5KN2RV8RX93 | Tommy               | L'Homme            |             nan |         nan | Dr. Green  | 5KN2RV8RX93 | 2023-07-10 00:00:00 | D1110            | Prophylaxis   adult Removal of plaque, calculus and stains from the tooth structures and implants in the permanentand transitional dentition.It is intended to control local irritational factors.                                                                                                                                                     |                100 |                80 |               80 |                20 |                0 |     100 |              0 |             80 | D1110: Twice per calendar year age thirteen (13)  and  older\n",
            "*Note: If a member is enrolled in Oral Health for Overall Health, D1110/D1120 or D4346 or D4910\n",
            "is covered once every three months.\n",
            "Code D1110 may be used for members age thirteen (13) and older. At age eighteen (18) code D1110 can be used in combination  with D4910 up to a total of two (2) per benefit period                                                                                                                                                                                                                                                                                                                          |\n",
            "| 5KN2RV8RX93 | Tommy               | L'Homme            |             nan |         nan | Dr. Green  | 5KN2RV8RX93 | 2022-07-10 00:00:00 | D0220            | Intraoral periapical  first radiographic  image                                                                                                                                                     |                 50 |                35 |               35 |                15 |                0 |     100 |              0 |             35 | D0220: Periapical films, for diagnostic purposes, covered subject to clinical necessity.  Intra?operative\n",
            "working radiographs are included with complete root canal therapy                                                                                                                                                                                                                                                                                                                          |\n",
            "| 5KN2RV8RX93 | Tommy               | L'Homme            |             nan |         nan | Dr. Green  | 5KN2RV8RX93 | 2022-02-10 00:00:00 | D0150            | Comprehensive oral evaluation, new or established patient                                                                                           |                 60 |                45 |               45 |                15 |                0 |     100 |              0 |             45 | D0150: Once per lifetime, per dentist/provider. Not covered when performed on the same date, same\n",
            "provider as D4355. The exam is a thorough evaluation and recording of the extraoral hard and soft tissues. This includes an evaluation for oral cancer, the evaluation and recording of the patients dental and medical history and a general health assessment.\n",
            "In addition, the exam would include the evaluation and recording of dental caries, missing  or unerupted teeth, restorations, existing prostheses, occlusal relationships, periodontal conditions (including periodontal screening and/or charting), hard and soft tissue anomalies, etc. It may also require interpretation of information acquired through additional diagnostic procedures. This procedure applies to new patients or established patients who have been absent from active treatment thirty-six (36) or more months. The procedure also applies to established patients who have had a significant change  in health conditions or other unusual circumstances                                                                                                                                                                                                                                                                                                                          |\n",
            "###\n",
            "What are your thoughts about this claim, using ONLY the policy in the context, are there signs of fraud, waste, abuse, educational opportunities, upcoding, unbundling, issues with the treatment sequence, etc? ENSURE to add a severity score (none, low, medium, high) and reference the line number when appropriate. Call out potential savings in bold **text** not markdown based on your findings\n"
          ]
        }
      ],
      "source": [
        "print(prompt_df.tail(1)['prompt'].values[0])"
      ]
    },
    {
      "cell_type": "code",
      "execution_count": 38,
      "metadata": {
        "id": "WkI5c1Seha68"
      },
      "outputs": [],
      "source": [
        "# prompt_df.to_csv(data_path / 'prompts.csv', index=False)\n",
        "\n",
        "# Hard to save as csv due to markdown and many delimiters in the 'prompt' column\n",
        "# Specify the file path\n",
        "file_path = 'prompts.npy'\n",
        "\n",
        "# Save the DataFrame to a NumPy binary file\n",
        "np.save(file_path, prompt_df)"
      ]
    },
    {
      "cell_type": "code",
      "execution_count": 39,
      "metadata": {
        "id": "FlXFi3Q6ha68"
      },
      "outputs": [
        {
          "data": {
            "text/html": [
              "<div>\n",
              "<style scoped>\n",
              "    .dataframe tbody tr th:only-of-type {\n",
              "        vertical-align: middle;\n",
              "    }\n",
              "\n",
              "    .dataframe tbody tr th {\n",
              "        vertical-align: top;\n",
              "    }\n",
              "\n",
              "    .dataframe thead th {\n",
              "        text-align: right;\n",
              "    }\n",
              "</style>\n",
              "<table border=\"1\" class=\"dataframe\">\n",
              "  <thead>\n",
              "    <tr style=\"text-align: right;\">\n",
              "      <th></th>\n",
              "      <th>member_id</th>\n",
              "      <th>prompt</th>\n",
              "    </tr>\n",
              "  </thead>\n",
              "  <tbody>\n",
              "    <tr>\n",
              "      <th>0</th>\n",
              "      <td>1TA9YY3MK99</td>\n",
              "      <td>You are the world's foremost investigator into...</td>\n",
              "    </tr>\n",
              "    <tr>\n",
              "      <th>1</th>\n",
              "      <td>5E73XN8XG05</td>\n",
              "      <td>You are the world's foremost investigator into...</td>\n",
              "    </tr>\n",
              "    <tr>\n",
              "      <th>2</th>\n",
              "      <td>5KN2RV8RX93</td>\n",
              "      <td>You are the world's foremost investigator into...</td>\n",
              "    </tr>\n",
              "  </tbody>\n",
              "</table>\n",
              "</div>"
            ],
            "text/plain": [
              "     member_id                                             prompt\n",
              "0  1TA9YY3MK99  You are the world's foremost investigator into...\n",
              "1  5E73XN8XG05  You are the world's foremost investigator into...\n",
              "2  5KN2RV8RX93  You are the world's foremost investigator into..."
            ]
          },
          "execution_count": 39,
          "metadata": {},
          "output_type": "execute_result"
        }
      ],
      "source": [
        "# To load\n",
        "# Load the DataFrame back from the binary file\n",
        "prompt_df_loaded = np.load(file_path, allow_pickle=True)\n",
        "prompt_df_loaded = pd.DataFrame(prompt_df_loaded, columns=prompt_df.columns)\n",
        "prompt_df_loaded"
      ]
    }
  ],
  "metadata": {
    "colab": {
      "provenance": []
    },
    "kernelspec": {
      "display_name": "nlp",
      "language": "python",
      "name": "python3"
    },
    "language_info": {
      "codemirror_mode": {
        "name": "ipython",
        "version": 3
      },
      "file_extension": ".py",
      "mimetype": "text/x-python",
      "name": "python",
      "nbconvert_exporter": "python",
      "pygments_lexer": "ipython3",
      "version": "3.9.13"
    },
    "orig_nbformat": 4,
    "vscode": {
      "interpreter": {
        "hash": "3e6ad0a4d58528d146a8c734414fb62dec48afa82580ea9a22d0f8f995f093bc"
      }
    }
  },
  "nbformat": 4,
  "nbformat_minor": 0
}
