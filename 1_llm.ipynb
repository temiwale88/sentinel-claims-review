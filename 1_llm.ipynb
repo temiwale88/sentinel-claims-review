{
  "cells": [
    {
      "cell_type": "markdown",
      "metadata": {
        "id": "gLg4kSLFo5Ak"
      },
      "source": [
        "# We will call our LLM in this notebook"
      ]
    },
    {
      "cell_type": "code",
      "execution_count": 32,
      "metadata": {},
      "outputs": [],
      "source": [
        "# !pip install openai -qU"
      ]
    },
    {
      "cell_type": "code",
      "execution_count": 33,
      "metadata": {
        "id": "sS8FEMBLo5Am"
      },
      "outputs": [],
      "source": [
        "import pandas as pd\n",
        "import numpy as np\n",
        "import os\n",
        "from pathlib import Path\n",
        "import openai\n",
        "from openai import OpenAI\n",
        "from dotenv import load_dotenv\n",
        "\n",
        "dir_path = Path.cwd()\n",
        "data_path = (dir_path / \"data\").resolve()\n",
        "temp_path = (dir_path / \"temp\").resolve()\n",
        "env_path = (dir_path / \".env\").resolve()\n",
        "\n",
        "load_dotenv(env_path)\n",
        "\n",
        "pd.set_option('display.float_format', lambda x: '%.3f' % x)\n",
        "pd.set_option(\"display.max_rows\", 40)\n",
        "\n",
        "openai.api_key = os.environ.get(\"OPENAI_API_KEY\")  # beta.openai.com/login/"
      ]
    },
    {
      "cell_type": "code",
      "execution_count": 34,
      "metadata": {
        "id": "8YM8gsiGo5Ao"
      },
      "outputs": [],
      "source": [
        "# bedrock.list_foundation_models()"
      ]
    },
    {
      "cell_type": "markdown",
      "metadata": {
        "id": "ab3wcaV0o5Ao"
      },
      "source": [
        "## GPT 4"
      ]
    },
    {
      "cell_type": "code",
      "execution_count": 35,
      "metadata": {
        "id": "svU1rB72o5Ao"
      },
      "outputs": [
        {
          "data": {
            "text/html": [
              "<div>\n",
              "<style scoped>\n",
              "    .dataframe tbody tr th:only-of-type {\n",
              "        vertical-align: middle;\n",
              "    }\n",
              "\n",
              "    .dataframe tbody tr th {\n",
              "        vertical-align: top;\n",
              "    }\n",
              "\n",
              "    .dataframe thead th {\n",
              "        text-align: right;\n",
              "    }\n",
              "</style>\n",
              "<table border=\"1\" class=\"dataframe\">\n",
              "  <thead>\n",
              "    <tr style=\"text-align: right;\">\n",
              "      <th></th>\n",
              "      <th>member_id</th>\n",
              "      <th>prompt</th>\n",
              "    </tr>\n",
              "  </thead>\n",
              "  <tbody>\n",
              "    <tr>\n",
              "      <th>0</th>\n",
              "      <td>1TA9YY3MK99</td>\n",
              "      <td>You are the world's foremost investigator into...</td>\n",
              "    </tr>\n",
              "    <tr>\n",
              "      <th>1</th>\n",
              "      <td>5E73XN8XG05</td>\n",
              "      <td>You are the world's foremost investigator into...</td>\n",
              "    </tr>\n",
              "    <tr>\n",
              "      <th>2</th>\n",
              "      <td>5KN2RV8RX93</td>\n",
              "      <td>You are the world's foremost investigator into...</td>\n",
              "    </tr>\n",
              "  </tbody>\n",
              "</table>\n",
              "</div>"
            ],
            "text/plain": [
              "     member_id                                             prompt\n",
              "0  1TA9YY3MK99  You are the world's foremost investigator into...\n",
              "1  5E73XN8XG05  You are the world's foremost investigator into...\n",
              "2  5KN2RV8RX93  You are the world's foremost investigator into..."
            ]
          },
          "execution_count": 35,
          "metadata": {},
          "output_type": "execute_result"
        }
      ],
      "source": [
        "# Let get our prompt file\n",
        "\n",
        "# Specify the file path\n",
        "file_path = 'prompts.npy'\n",
        "\n",
        "# To load\n",
        "# Load the DataFrame back from the binary file\n",
        "prompt_df = np.load(file_path, allow_pickle=True)\n",
        "prompt_df = pd.DataFrame(prompt_df, columns=['member_id', 'prompt'])\n",
        "prompt_df"
      ]
    },
    {
      "cell_type": "code",
      "execution_count": 36,
      "metadata": {},
      "outputs": [],
      "source": [
        "def create_prompt(prompt):\n",
        "    # ChatGPT\n",
        "    chat_prompt = [\n",
        "        {\n",
        "            \"role\": \"user\", #prompt created by chat.openai.com based on prompting.\n",
        "            \"content\": f\"{prompt}\"\n",
        "        }\n",
        "    ]\n",
        "\n",
        "    return chat_prompt\n",
        "\n",
        "chat_model = \"gpt-4-0613\" # \"gpt-3.5-turbo-0613\" #"
      ]
    },
    {
      "cell_type": "code",
      "execution_count": 37,
      "metadata": {},
      "outputs": [
        {
          "name": "stdout",
          "output_type": "stream",
          "text": [
            "1TA9YY3MK99\n",
            "[{'role': 'user', 'content': \"You are the world's foremost investigator into fraud, waste, and abuse in the dental insurance industry.\\nHere are our definitions for FWA:\\n###\\nFraud: Fraud hinges on intent: healthcare workers knowingly working outside of accepted standards for their own financial gain. Some common fraud examples include billing for services not rendered, misrepresenting dates of service, diagnosing unnecessary or incorrect treatment, or misrepresenting the identity of the patient. While these aren’t limited to dentistry, spotting nefarious intent within inappropriate claims must be done right away before unwarranted payment escalates.\\nAbuse: Abuse typically involves acts that are inconsistent with identified acceptable and legitimate practices. This can result in additional and unnecessary costs to the payer, as well as possible injury to patients, who may suffer from a lack of needed care, incorrect care, or deficient care as a result. Over-coding procedures falls under the category of abuse. Examples of over-coding include billing for a higher extraction code when the lower code is more in line with the actual process per extraction codes contained in CDT. The higher code is generally reimbursed at a higher rate, thus using more of the patient's available dental plan benefit.\\nWaste: A major problem for dental payers that often goes unchecked is waste, or billing for medically unnecessary services. Waste in dental services not only affects the dental plans, but it inaccurately deducts from their members’ yearly maximum benefit, potentially leaving insufficient funds for other necessary procedures.\\n###\\n\\n\\nHere's the member history in markdown format:\\n###\\n| member id   | member first name   | member last name   |   tooth surface |   tooth nbr | provider   | npi         | service date        | procedure code   | procedure description                                                                                       |   submitted amount |   approved amount |   allowed amount |   network savings |   deductible amt |   cov % |   patient owes |   plan payment | policy                                                                                                                                                                                                          |\\n|-------------|---------------------|--------------------|-----------------|-------------|------------|-------------|---------------------|------------------|-------------------------------------------------------------------------------------------------------------|--------------------|-------------------|------------------|-------------------|------------------|---------|----------------|----------------|-----------------------------------------------------------------------------------------------------------------------------------------------------------------------------------------------------------------|\\n| 1TA9YY3MK99 | Evaleen             | Gaitung            |             nan |         nan | Dr. Smith  | 5WC2CU9KQ89 | 2024-04-01 00:00:00 | D0150            | Comprehensive oral evaluation, new or established patient                                                   |                 75 |                55 |               55 |                20 |                0 |     100 |              0 |             55 | D0150: Once per lifetime, per dentist/provider. Not covered when performed on the same date, same\\nprovider as D4355. The exam is a thorough evaluation and recording of the extraoral hard and soft tissues. This includes an evaluation for oral cancer, the evaluation and recording of the patient\\x92s dental and medical history and a general health assessment.\\nIn addition, the exam would include the evaluation and recording of dental caries, missing  or unerupted teeth, restorations, existing prostheses, occlusal relationships, periodontal conditions (including periodontal screening and/or charting), hard and soft tissue anomalies, etc. It may also require interpretation of information acquired through additional diagnostic procedures. This procedure applies to new patients or established patients who have been absent from active treatment thirty-six (36) or more months. The procedure also applies to established patients who have had a significant change  in health conditions or other unusual circumstances                                                                                                                                                                                                                 |\\n| 1TA9YY3MK99 | Evaleen             | Gaitung            |             nan |         nan | Dr. Smith  | 5WC2CU9KQ89 | 2024-04-01 00:00:00 | D1110            | Prophylaxis  \\x96 adult Removal of plaque, calculus and stains from the tooth structures and implants in the permanentand transitional dentition.It is intended to control local irritational factors.                                                                                                             |                 90 |                70 |               70 |                20 |                0 |     100 |              0 |             70 | D1110: Twice per calendar year age thirteen (13)  and  older\\n*Note: If a member is enrolled in Oral Health for Overall Health, D1110/D1120 or D4346 or D4910\\nis covered once every three months.\\nCode D1110 may be used for member\\x92s age thirteen (13) and older. At age eighteen (18) code D1110 can be used in combination  with D4910 up to a total of two (2) per benefit period                                                                                                                                                                                                                 |\\n| 1TA9YY3MK99 | Evaleen             | Gaitung            |             nan |         nan | Dr. Smith  | 5WC2CU9KQ89 | 2024-04-01 00:00:00 | D0274            | Bitewings \\x96 four (4) radiographic images                                                                                                             |                100 |                80 |               80 |                20 |                0 |     100 |              0 |             80 | D0274: Once per benefit period. Plan benefits include an annual set of bitewings per benefit period. Any of these codes constitute a set of bitewings                                                           |\\n| 1TA9YY3MK99 | Evaleen             | Gaitung            |             nan |         nan | Dr. Smith  | 5WC2CU9KQ89 | 2024-04-01 00:00:00 | D4341            | Periodontal Scaling and Root planning (SRP) 4 or more teeth Per Quadrant                                    |                400 |               300 |              300 |               100 |                0 |     100 |              0 |            300 | D4341: One (1) per quadrant per twenty-four (24) month period, age eighteen (18) or older. Periodontal scaling and root planning may be used as a definitive treatment in some stages of periodontal disease  and/or  as a part of pre- surgical procedures in others a benefit when less than four (4) teeth in a quadrant  have periodontal pockets measuring 4mm or greater. Once every twenty-four (24) months. Patient must be eighteen\\n(18) years and older. Gross debridement of calculus and polishing of all teeth are considered\\nintegral to this procedure                                                                                                                                                                                                                 |\\n| 1TA9YY3MK99 | Evaleen             | Gaitung            |             nan |         nan | Dr. Smith  | 5WC2CU9KQ89 | 2024-04-01 00:00:00 | D4355            | Full mouth debridement to enable a comprehensive periodontal evaluation and diagnosis on a subsequent visit |                250 |               200 |              200 |                50 |                0 |     100 |              0 |            200 | D4355: 1 per 36 months, age 18 and older. Not to be completed on the same day as D0150, D0160 or D0180. To be used when plaque and calculus interfere with the ability to perform a compressive oral evaluation |\\n| 1TA9YY3MK99 | Evaleen             | Gaitung            |             nan |         nan | Dr. Smith  | 5WC2CU9KQ89 | 2024-04-01 00:00:00 | D4910            | Periodontal  maintenance                                                                                    |                120 |               100 |              100 |                20 |                0 |     100 |              0 |            100 | D4910: Two (2) per benefit period, includes prophy,\\nage eighteen (18) or older.\\n*Note: If a member is enrolled in Oral Health for\\nOverall Health, D1110/D1120 or D4346 or\\nD4910 is covered once every three months. Periodontal maintenance includes removal of the bacterial plaque and calculus from supragingival and subgingival regions, site-specific scaling and root planing where indicated, and polishing the teeth, Periodontal maintenance is covered two (2) times per benefit period following surgical and definitive non-surgical therapy.  The patient must be age eighteen (18) or older. Periodontal\\nmaintenance should not to be performed on same day as periodontal  surgery                                                                                                                                                                                                                 |\\n###\\nWhat are your thoughts about this claim, using ONLY the policy in the context, are there signs of fraud, waste, abuse, educational opportunities, upcoding, unbundling, issues with the treatment sequence, etc? ENSURE to add a severity score (none, low, medium, high) and reference the line number when appropriate. Call out potential savings based on your findings\"}]\n"
          ]
        }
      ],
      "source": [
        "import random\n",
        "# Get a list of unique member IDs\n",
        "unique_member_ids = prompt_df['member_id'].unique()\n",
        "\n",
        "# Randomly select a member ID from the list\n",
        "random_member_id = random.choice(unique_member_ids)\n",
        "print(random_member_id)\n",
        "for index, row in prompt_df[prompt_df['member_id']==random_member_id].iterrows():\n",
        "    # Extract values from the DataFrame row\n",
        "    prompt = row['prompt']\n",
        "    prompt = create_prompt(prompt)\n",
        "    print(prompt)"
      ]
    },
    {
      "cell_type": "code",
      "execution_count": 38,
      "metadata": {},
      "outputs": [],
      "source": [
        "def generate_reply(prompt):\n",
        "    \n",
        "    try:\n",
        "        client = OpenAI()\n",
        "\n",
        "        stream = client.chat.completions.create(\n",
        "            model=\"gpt-4\",\n",
        "            messages=prompt,\n",
        "            temperature=0,\n",
        "            # max_tokens=400,\n",
        "            top_p=1,\n",
        "            frequency_penalty=0,\n",
        "            presence_penalty=0,\n",
        "            stop=None,\n",
        "            stream=True,\n",
        "        )\n",
        "        for chunk in stream:\n",
        "            print(chunk.choices[0].delta.content or \"\", end=\"\")\n",
        "    except Exception as e:\n",
        "        print(e)\n",
        "        return \"Sorry. Seems like there's an issue here with generating a reply to your question. Please try again.\""
      ]
    },
    {
      "cell_type": "code",
      "execution_count": 39,
      "metadata": {},
      "outputs": [
        {
          "name": "stdout",
          "output_type": "stream",
          "text": [
            "Based on the provided information, there are several potential issues with the claims submitted by Dr. Smith for patient Evaleen Gaitung. \n",
            "\n",
            "1. Line 1: The D0150 procedure code for a comprehensive oral evaluation is only allowed once per lifetime, per dentist/provider. It is not covered when performed on the same date, same provider as D4355. However, in this case, it appears that both D0150 and D4355 were performed on the same day by the same provider. This could be a potential case of Fraud or Abuse as the provider may be knowingly billing for services not allowed by the policy. Severity: High\n",
            "\n",
            "2. Line 5: The D4341 procedure code for periodontal scaling and root planning is only allowed once per quadrant per twenty-four (24) month period, for patients aged eighteen (18) or older. It is not clear from the provided information if this procedure was necessary or if it was performed more than once in the specified period. If it was unnecessary or performed more than allowed, this could be a case of Waste or Abuse. Severity: Medium\n",
            "\n",
            "3. Line 6: The D4355 procedure code for full mouth debridement is only allowed once per 36 months, for patients aged 18 and older. It is not to be completed on the same day as D0150, D0160 or D0180. However, in this case, it appears that both D0150 and D4355 were performed on the same day. This could be a potential case of Fraud or Abuse as the provider may be knowingly billing for services not allowed by the policy. Severity: High\n",
            "\n",
            "4. Line 7: The D4910 procedure code for periodontal maintenance is only allowed twice per benefit period, for patients aged eighteen (18) or older. It is not clear from the provided information if this procedure was performed more than allowed. If it was, this could be a case of Waste or Abuse. Severity: Medium\n",
            "\n",
            "Potential Savings: The potential savings could be significant if these issues are addressed. For example, if the D0150 and D4355 procedures were not performed on the same day, the savings could be $55 and $200 respectively. Similarly, if the D4341 and D4910 procedures were not performed more than allowed, the savings could be $300 and $100 respectively. \n",
            "\n",
            "Educational Opportunities: The provider should be educated on the policy restrictions for these procedure codes to prevent future instances of potential Fraud, Waste, and Abuse."
          ]
        }
      ],
      "source": [
        "generate_reply(prompt)"
      ]
    }
  ],
  "metadata": {
    "colab": {
      "provenance": []
    },
    "kernelspec": {
      "display_name": "nlp",
      "language": "python",
      "name": "python3"
    },
    "language_info": {
      "codemirror_mode": {
        "name": "ipython",
        "version": 3
      },
      "file_extension": ".py",
      "mimetype": "text/x-python",
      "name": "python",
      "nbconvert_exporter": "python",
      "pygments_lexer": "ipython3",
      "version": "3.9.13"
    }
  },
  "nbformat": 4,
  "nbformat_minor": 0
}
